{
 "cells": [
  {
   "cell_type": "code",
   "execution_count": 13,
   "metadata": {},
   "outputs": [],
   "source": [
    "import os\n",
    "import pandas as pd\n",
    "from pyspark.sql import SparkSession\n",
    "import random\n"
   ]
  },
  {
   "cell_type": "code",
   "execution_count": 2,
   "metadata": {},
   "outputs": [],
   "source": [
    "os.environ[\"JAVA_HOME\"] = \"/nix/store/8drvwqmcxh2rvasgr7visxrgfjxnd3an-openjdk-11.0.19+7\"\n",
    "\n",
    "spark = SparkSession.builder \\\n",
    "    .appName(\"SqlQuery\") \\\n",
    "    .master(\"local[*]\") \\\n",
    "    .getOrCreate()\n"
   ]
  },
  {
   "cell_type": "code",
   "execution_count": 20,
   "metadata": {},
   "outputs": [
    {
     "name": "stderr",
     "output_type": "stream",
     "text": [
      "/nix/store/ay67m3dhqwxnf3qna4xj3ywnknxya2k4-python3-3.10.14-env/lib/python3.10/site-packages/pyspark/sql/pandas/conversion.py:485: FutureWarning: is_datetime64tz_dtype is deprecated and will be removed in a future version. Check `isinstance(dtype, pd.DatetimeTZDtype)` instead.\n",
      "  if should_localize and is_datetime64tz_dtype(s.dtype) and s.dt.tz is not None:\n",
      "[Stage 47:>                                                         (0 + 1) / 1]\r"
     ]
    },
    {
     "name": "stdout",
     "output_type": "stream",
     "text": [
      "+--------+---------------+---+---------------+\n",
      "|     day|      from_user| id|        to_user|\n",
      "+--------+---------------+---+---------------+\n",
      "|20240501| dave@gmail.com|  1|alice@gmail.com|\n",
      "|20240508|carol@gmail.com|  2|  bob@gmail.com|\n",
      "|20240505|alice@gmail.com|  3|  bob@gmail.com|\n",
      "|20240501|  bob@gmail.com|  4| dave@gmail.com|\n",
      "|20240507|carol@gmail.com|  5|  eve@gmail.com|\n",
      "|20240504|carol@gmail.com|  6| dave@gmail.com|\n",
      "|20240502|  eve@gmail.com|  7|alice@gmail.com|\n",
      "|20240503|alice@gmail.com|  8|  bob@gmail.com|\n",
      "|20240507|  eve@gmail.com|  9| dave@gmail.com|\n",
      "|20240501|carol@gmail.com| 10| dave@gmail.com|\n",
      "|20240503|  bob@gmail.com| 11| dave@gmail.com|\n",
      "|20240505| dave@gmail.com| 12|carol@gmail.com|\n",
      "|20240503|  eve@gmail.com| 13| dave@gmail.com|\n",
      "|20240506|  eve@gmail.com| 14|  bob@gmail.com|\n",
      "|20240501|alice@gmail.com| 15|carol@gmail.com|\n",
      "|20240504|  eve@gmail.com| 16|carol@gmail.com|\n",
      "|20240505|carol@gmail.com| 17|  eve@gmail.com|\n",
      "|20240503|carol@gmail.com| 18|  bob@gmail.com|\n",
      "|20240504| dave@gmail.com| 19|  bob@gmail.com|\n",
      "|20240506|  eve@gmail.com| 20|carol@gmail.com|\n",
      "+--------+---------------+---+---------------+\n",
      "only showing top 20 rows\n",
      "\n"
     ]
    },
    {
     "name": "stderr",
     "output_type": "stream",
     "text": [
      "                                                                                \r"
     ]
    }
   ],
   "source": [
    "users = [\"alice@gmail.com\", \"bob@gmail.com\", \"carol@gmail.com\", \"dave@gmail.com\", \"eve@gmail.com\"]\n",
    "days = [20240501 + i for i in range(8)]\n",
    "\n",
    "records = []\n",
    "used_pairs = set()\n",
    "\n",
    "while len(records) < 100:\n",
    "    day = random.choice(days)\n",
    "    from_user = random.choice(users)\n",
    "    to_user = random.choice(users)\n",
    "    if from_user != to_user and (day, from_user, to_user) not in used_pairs:\n",
    "        used_pairs.add((day, from_user, to_user))\n",
    "        records.append((day, from_user, len(records) + 1, to_user))\n",
    "\n",
    "df_emails = pd.DataFrame(records, columns=[\"day\", \"from_user\", \"id\", \"to_user\"])\n",
    "df_emails\n",
    "df_spark = spark.createDataFrame(df_emails)\n",
    "df_spark.createOrReplaceTempView(\"google_gmail_emails\")\n",
    "df_spark.show()"
   ]
  },
  {
   "attachments": {
    "image.png": {
     "image/png": "[encoded data removed]"
    }
   },
   "cell_type": "markdown",
   "metadata": {},
   "source": [
    "# Problem statement: \n",
    "Find the email activity rank for each user. Email activity rank is defined by the total number of emails sent. The user with the highest number of emails sent will have a rank of 1, and so on. Output the user, total emails, and their activity rank. • Order records first by the total emails in descending order. • Then, sort users with the same number of emails in alphabetical order by their username. • In your rankings, return a unique value (i.e., a unique rank) even if multiple users have the same number of emails.\n",
    "![image.png](attachment:image.png)"
   ]
  },
  {
   "cell_type": "code",
   "execution_count": 18,
   "metadata": {},
   "outputs": [
    {
     "name": "stderr",
     "output_type": "stream",
     "text": [
      "25/05/06 12:48:23 WARN WindowExec: No Partition Defined for Window operation! Moving all data to a single partition, this can cause serious performance degradation.\n",
      "25/05/06 12:48:23 WARN WindowExec: No Partition Defined for Window operation! Moving all data to a single partition, this can cause serious performance degradation.\n",
      "25/05/06 12:48:23 WARN WindowExec: No Partition Defined for Window operation! Moving all data to a single partition, this can cause serious performance degradation.\n",
      "25/05/06 12:48:24 WARN WindowExec: No Partition Defined for Window operation! Moving all data to a single partition, this can cause serious performance degradation.\n",
      "25/05/06 12:48:24 WARN WindowExec: No Partition Defined for Window operation! Moving all data to a single partition, this can cause serious performance degradation.\n",
      "25/05/06 12:48:24 WARN WindowExec: No Partition Defined for Window operation! Moving all data to a single partition, this can cause serious performance degradation.\n",
      "25/05/06 12:48:24 WARN WindowExec: No Partition Defined for Window operation! Moving all data to a single partition, this can cause serious performance degradation.\n"
     ]
    },
    {
     "name": "stdout",
     "output_type": "stream",
     "text": [
      "+---------------+-----------+----+\n",
      "|      from_user|TotalEmails|rank|\n",
      "+---------------+-----------+----+\n",
      "|  bob@gmail.com|         22|   1|\n",
      "|carol@gmail.com|         21|   2|\n",
      "|alice@gmail.com|         20|   3|\n",
      "| dave@gmail.com|         19|   4|\n",
      "|  eve@gmail.com|         18|   5|\n",
      "+---------------+-----------+----+\n",
      "\n"
     ]
    },
    {
     "name": "stderr",
     "output_type": "stream",
     "text": [
      "                                                                                \r"
     ]
    }
   ],
   "source": [
    "result = spark.sql(\"\"\"\n",
    "SELECT \n",
    "\n",
    "from_user, \n",
    "COUNT(*) as TotalEmails, \n",
    "DENSE_RANK() OVER (ORDER BY COUNT(id) DESC,from_user) as rank \n",
    "\n",
    "FROM \n",
    "\n",
    "google_gmail_emails\n",
    "\n",
    "GROUP BY \n",
    "\n",
    "from_user\n",
    "\n",
    "ORDER BY \n",
    "\n",
    "TotalEmails DESC,\n",
    "from_user ASC\n",
    "\"\"\")\n",
    "result.show()"
   ]
  },
  {
   "cell_type": "code",
   "execution_count": null,
   "metadata": {},
   "outputs": [],
   "source": []
  }
 ],
 "metadata": {
  "kernelspec": {
   "display_name": "Python (SQL + Spark)",
   "language": "python",
   "name": "sql-env"
  },
  "language_info": {
   "codemirror_mode": {
    "name": "ipython",
    "version": 3
   },
   "file_extension": ".py",
   "mimetype": "text/x-python",
   "name": "python",
   "nbconvert_exporter": "python",
   "pygments_lexer": "ipython3",
   "version": "3.10.14"
  }
 },
 "nbformat": 4,
 "nbformat_minor": 2
}
